{
 "cells": [
  {
   "cell_type": "markdown",
   "id": "490eda79",
   "metadata": {},
   "source": [
    "### QUESTION 1\n",
    "What data type is each of the following (evaluate where necessary)?\n",
    "- 5\n",
    "- 5.0\n",
    "- 5 > 1\n",
    "- '5'\n",
    "- 5 * 2\n",
    "- '5' * 2\n",
    "- '5' + '2'\n",
    "- 5 / 2\n",
    "- 5 % 2\n",
    "- {5, 2, 1}\n",
    "- 5 == 3\n",
    "- Pi (the number)\n"
   ]
  },
  {
   "cell_type": "code",
   "execution_count": 1,
   "id": "b98af2e4",
   "metadata": {},
   "outputs": [],
   "source": [
    "import math"
   ]
  },
  {
   "cell_type": "code",
   "execution_count": 2,
   "id": "0925a21a",
   "metadata": {},
   "outputs": [],
   "source": [
    "A = 5\n",
    "B = 5.0\n",
    "C = 5 > 1\n",
    "D = '5'\n",
    "E = 5 * 2\n",
    "F = '5' * 2\n",
    "G = '5' + '2'\n",
    "H = 5 / 2\n",
    "I = 5 % 2\n",
    "J = {5, 2, 1}\n",
    "K = 5 == 3\n",
    "L = math.pi"
   ]
  },
  {
   "cell_type": "code",
   "execution_count": 3,
   "id": "843ef50b",
   "metadata": {},
   "outputs": [
    {
     "name": "stdout",
     "output_type": "stream",
     "text": [
      "<class 'int'>\n",
      "<class 'float'>\n",
      "<class 'bool'>\n",
      "<class 'str'>\n",
      "<class 'int'>\n",
      "<class 'str'>\n",
      "<class 'str'>\n",
      "<class 'float'>\n",
      "<class 'int'>\n",
      "<class 'set'>\n",
      "<class 'bool'>\n",
      "<class 'float'>\n"
     ]
    }
   ],
   "source": [
    "print(type(A))\n",
    "print(type(B))\n",
    "print(type(C))\n",
    "print(type(D))\n",
    "print(type(E))\n",
    "print(type(F))\n",
    "print(type(G))\n",
    "print(type(H))\n",
    "print(type(I))\n",
    "print(type(J))\n",
    "print(type(K))\n",
    "print(type(L))"
   ]
  },
  {
   "cell_type": "markdown",
   "id": "76d4e03f",
   "metadata": {},
   "source": [
    "## Question 2\n",
    "\n",
    "Write (and evaluate) python expressions that answer these questions:\n",
    "- How many letters are there in 'Supercalifragilisticexpialidocious'?\n",
    "- Does 'Supercalifragilisticexpialidocious' contain 'ice' as a substring?\n",
    "- Which of the following words is the longest: Supercalifragilisticexpialidocious, Honorificabilitudinitatibus, or Bababadalgharaghtakamminarronnkonn?\n",
    "- Which composer comes first in the dictionary: 'Berlioz', 'Borodin', 'Brian', 'Bartok', 'Bellini', 'Buxtehude', 'Bernstein'. Which one comes last?\n"
   ]
  },
  {
   "cell_type": "code",
   "execution_count": 4,
   "id": "e52f292a",
   "metadata": {},
   "outputs": [
    {
     "data": {
      "text/plain": [
       "34"
      ]
     },
     "execution_count": 4,
     "metadata": {},
     "output_type": "execute_result"
    }
   ],
   "source": [
    "# How many letters are there in 'Supercalifragilisticexpialidocious'?\n",
    "b = 'Supercalifragilisticexpialidocious'\n",
    "len(b)"
   ]
  },
  {
   "cell_type": "code",
   "execution_count": 5,
   "id": "dc90a306",
   "metadata": {},
   "outputs": [
    {
     "name": "stdout",
     "output_type": "stream",
     "text": [
      "True\n"
     ]
    }
   ],
   "source": [
    "# Does 'Supercalifragilisticexpialidocious' contain 'ice' as a substring?\n",
    "print('ice' in b)"
   ]
  },
  {
   "cell_type": "code",
   "execution_count": 6,
   "id": "56a886a3",
   "metadata": {},
   "outputs": [],
   "source": [
    "# Which of the following words is the longest: Supercalifragilisticexpialidocious, Honorificabilitudinitatibus, or Bababadalgharaghtakamminarronnkonn?\n",
    "c = 'Honorificabilitudinitatibus'\n",
    "d = 'Bababadalgharaghtakamminarronnkonn'"
   ]
  },
  {
   "cell_type": "code",
   "execution_count": 7,
   "id": "6ce4cea1",
   "metadata": {},
   "outputs": [
    {
     "name": "stdout",
     "output_type": "stream",
     "text": [
      "34\n",
      "27\n",
      "34\n"
     ]
    }
   ],
   "source": [
    "print(len(b))\n",
    "print(len(c))\n",
    "print(len(d))"
   ]
  },
  {
   "cell_type": "code",
   "execution_count": 8,
   "id": "a87c8efd",
   "metadata": {},
   "outputs": [
    {
     "data": {
      "text/plain": [
       "'Supercalifragilisticexpialidocious'"
      ]
     },
     "execution_count": 8,
     "metadata": {},
     "output_type": "execute_result"
    }
   ],
   "source": [
    "z = max(b, c, d, key=len)\n",
    "z"
   ]
  },
  {
   "cell_type": "code",
   "execution_count": 9,
   "id": "2fd22cb0",
   "metadata": {},
   "outputs": [],
   "source": [
    "# Which composer comes first in the dictionary: 'Berlioz', 'Borodin', 'Brian', 'Bartok', 'Bellini', 'Buxtehude', 'Bernstein'. Which one comes last?\n",
    "e = 'Berlioz', 'Borodin', 'Brian', 'Bartok', 'Bellini', 'Buxtehude', 'Bernstein'\n",
    "e = list(e)"
   ]
  },
  {
   "cell_type": "code",
   "execution_count": 10,
   "id": "d3a050c5",
   "metadata": {},
   "outputs": [
    {
     "data": {
      "text/plain": [
       "['Bartok', 'Bellini', 'Berlioz', 'Bernstein', 'Borodin', 'Brian', 'Buxtehude']"
      ]
     },
     "execution_count": 10,
     "metadata": {},
     "output_type": "execute_result"
    }
   ],
   "source": [
    "f = sorted(e)\n",
    "f"
   ]
  },
  {
   "cell_type": "markdown",
   "id": "1e03a376",
   "metadata": {},
   "source": [
    "## Question 3\n",
    "\n",
    "Implement function triangleArea(a,b,c) that takes as input the lengths of the 3 sides of a triangle and returns the area of the triangle. By Heron's formula, the area of a triangle with side lengths a, b, and c is,\\$\\sqrt{s(s - a)(s - b)(s - c)}$ <br>\n",
    "where s = (a + b + c)/2. <br>\n",
    "triangleArea(2,2,2) <br>\n",
    "1.7320508075688772\n"
   ]
  },
  {
   "cell_type": "code",
   "execution_count": 11,
   "id": "a7db4195",
   "metadata": {},
   "outputs": [],
   "source": [
    "def tri_area(a, b, c):\n",
    "    s = (a + b +c)/2\n",
    "    area = math.sqrt(s*(s - a)*(s - b)*(s - c))\n",
    "    return area"
   ]
  },
  {
   "cell_type": "code",
   "execution_count": 12,
   "id": "beccd986",
   "metadata": {},
   "outputs": [
    {
     "name": "stdout",
     "output_type": "stream",
     "text": [
      "The area of the triangle is: 1.7320508075688772\n"
     ]
    }
   ],
   "source": [
    "triangle_area = tri_area(2, 2, 2)\n",
    "triangle_area\n",
    "print(\"The area of the triangle is:\", triangle_area)"
   ]
  },
  {
   "cell_type": "markdown",
   "id": "04d321ee",
   "metadata": {},
   "source": [
    "## Question 4\n",
    "Write a program in python to separate odd and even integers in separate arrays. Go to the editor <br>\n",
    "Test Data : <br>\n",
    "Input the number of elements to be stored in the array :5 Input 5 elements in the array : <br>\n",
    "element - 0 : 25 <br>\n",
    "element - 1 : 47 <br>\n",
    "element - 2 : 42 <br>\n",
    "element - 3 : 56 <br>\n",
    "element - 4 : 32 Expected Output: <br>\n",
    "The Even elements are: 42 56 32 <br>\n",
    "The Odd elements are : 25 47"
   ]
  },
  {
   "cell_type": "code",
   "execution_count": 13,
   "id": "6da968ac",
   "metadata": {},
   "outputs": [],
   "source": [
    "def sep_even_elements(element):\n",
    "    even_element = [num for num in element if num % 2 == 0]\n",
    "    odd_element = [num for num in element if num % 2 == 1]        \n",
    "    return even_element, odd_element"
   ]
  },
  {
   "cell_type": "code",
   "execution_count": 14,
   "id": "e46d76d7",
   "metadata": {},
   "outputs": [
    {
     "name": "stdout",
     "output_type": "stream",
     "text": [
      "The even elements are [42, 56, 32]\n",
      "The odd elements are [25, 47]\n"
     ]
    }
   ],
   "source": [
    "element = [25,47,42,56,32]\n",
    "sep_even_elements(element)\n",
    "print(\"The even elements are {}\" .format(sep_even_elements(element)[0]))\n",
    "print(\"The odd elements are {}\" .format(sep_even_elements(element)[1]))"
   ]
  },
  {
   "cell_type": "markdown",
   "id": "120c5180",
   "metadata": {},
   "source": [
    "## Question 5\n",
    "\n",
    "a.\tWrite a function inside(x,y,x1,y1,x2,y2) that returns True or False depending on whether the point (x,y) lies in the rectangle with lower left corner (x1,y1) and upper right corner (x2,y2). <br>\n",
    "\n",
    "inside(1,1,0,0,2,3) <br>\n",
    "True <br>\n",
    "inside(-1,-1,0,0,2,3) <br>\n",
    "False <br>\n",
    "<br>\n",
    "b.\tUse function inside() from part a. to write an expression that tests whether the point (1,1) lies in both of the following rectangles: one with lower left corner (0.3, 0.5) and upper right corner (1.1, 0.7) and the other with lower left corner (0.5, 0.2) and upper right corner (1.1, 2)."
   ]
  },
  {
   "cell_type": "code",
   "execution_count": 15,
   "id": "1488609e",
   "metadata": {},
   "outputs": [],
   "source": [
    "def inside(x,y,x1,y1,x2,y2):\n",
    "    return x1 <= x <= x2 and y1 <= y <= y2"
   ]
  },
  {
   "cell_type": "code",
   "execution_count": 21,
   "id": "effd4bb3",
   "metadata": {},
   "outputs": [
    {
     "data": {
      "text/plain": [
       "True"
      ]
     },
     "execution_count": 21,
     "metadata": {},
     "output_type": "execute_result"
    }
   ],
   "source": [
    "inside(1,1,0,0,2,3)"
   ]
  },
  {
   "cell_type": "code",
   "execution_count": 19,
   "id": "b09b1191",
   "metadata": {},
   "outputs": [
    {
     "data": {
      "text/plain": [
       "False"
      ]
     },
     "execution_count": 19,
     "metadata": {},
     "output_type": "execute_result"
    }
   ],
   "source": [
    "inside(-1,-1,0,0,2,3)"
   ]
  },
  {
   "cell_type": "code",
   "execution_count": 24,
   "id": "013ebe49",
   "metadata": {},
   "outputs": [],
   "source": [
    "pointx = 1\n",
    "pointy = 1\n",
    "\n",
    "rec1_x1 = 0.3\n",
    "rec1_y1 = 0.5\n",
    "rec1_x2 = 1.1\n",
    "rec1_y2 = 0.7\n",
    "\n",
    "rec2_x1 = 0.5\n",
    "rec2_y1 = 0.2\n",
    "rec2_x2 = 1.1\n",
    "rec2_y2 = 2"
   ]
  },
  {
   "cell_type": "code",
   "execution_count": 25,
   "id": "d087e877",
   "metadata": {},
   "outputs": [
    {
     "name": "stdout",
     "output_type": "stream",
     "text": [
      "Point (1, 1) is inside Rectangle 1: False\n"
     ]
    }
   ],
   "source": [
    "rectangle1 = inside(pointx, pointy, rec1_x1, rec1_y1, rec1_x2, rec1_y2)\n",
    "print(\"Is point (1, 1) inside Rectangle 1?:\", rectangle1)"
   ]
  },
  {
   "cell_type": "code",
   "execution_count": 26,
   "id": "6712fdbc",
   "metadata": {},
   "outputs": [
    {
     "name": "stdout",
     "output_type": "stream",
     "text": [
      "Is point (1, 1) inside Rectangle 2?: False\n"
     ]
    }
   ],
   "source": [
    "rectangle2 = inside(pointx, pointy, rec2_x1, rec2_y1, rec2_x2, rec2_y2)\n",
    "print(\"Is point (1, 1) inside Rectangle 2?:\", rectangle1)"
   ]
  },
  {
   "cell_type": "markdown",
   "id": "137ac182",
   "metadata": {},
   "source": [
    "## Question 6\n",
    "\n",
    "You can turn a word into pig-Latin using the following two rules (simplified):\n",
    "- If the word starts with a consonant, move that letter to the end and append 'ay'. For example, 'happy' becomes 'appyhay' and 'pencil' becomes 'encilpay'.\n",
    "- If the word starts with a vowel, simply append 'way' to the end of the word. For example, 'enter' becomes 'enterway' and 'other' becomes 'otherway' . For our purposes, there are 5 vowels: a, e, i, o, u (so we count y as a consonant).\n",
    "\n",
    "Write a function pig() that takes a word (i.e., a string) as input and returns its pig- Latin form. Your function should still work if the input word contains upper case characters. Your output should always be lower case however.\n",
    "\n",
    "> pig('happy') 'appyhay' <br>\n",
    "> pig('Enter') 'enterway'\n"
   ]
  },
  {
   "cell_type": "code",
   "execution_count": 28,
   "id": "bd37bfbe",
   "metadata": {},
   "outputs": [],
   "source": [
    "def pig(word):\n",
    "    vowels = ['a', 'e', 'i', 'o', 'u']\n",
    "    word = word.lower()\n",
    "\n",
    "    pig_latin = word + 'way' if word[0] in vowels else word[1:] + word[0] + 'ay'\n",
    "\n",
    "    return pig_latin"
   ]
  },
  {
   "cell_type": "code",
   "execution_count": 29,
   "id": "f7fe8143",
   "metadata": {},
   "outputs": [
    {
     "name": "stdout",
     "output_type": "stream",
     "text": [
      "appyhay\n"
     ]
    }
   ],
   "source": [
    "word = 'happy'\n",
    "result = pig(word)\n",
    "print(result)"
   ]
  },
  {
   "cell_type": "code",
   "execution_count": 30,
   "id": "c813998c",
   "metadata": {},
   "outputs": [
    {
     "name": "stdout",
     "output_type": "stream",
     "text": [
      "enterway\n"
     ]
    }
   ],
   "source": [
    "word = 'Enter'\n",
    "result = pig(word)\n",
    "print(result)"
   ]
  },
  {
   "cell_type": "markdown",
   "id": "fedc0663",
   "metadata": {},
   "source": [
    "## Question 7\n",
    "\n",
    "File bloodtype1.txt records blood-types of patients (A, B, AB, O or OO) at a clinic. <br>\n",
    "Write a function bldcount() that reads the file with name name and reports (i.e., prints) how many patients there are in each bloodtype. <br>\n",
    "\n",
    "bldcount('bloodtype.txt')\n",
    "There are 10 patients of blood type A. <br>\n",
    "There is one patient of blood type B. <br> There are 10 patients of blood type AB. <br> There are 12 patients of blood type O. <br> There are no patients of blood type OO."
   ]
  },
  {
   "cell_type": "code",
   "execution_count": 18,
   "id": "9d4870d9",
   "metadata": {},
   "outputs": [
    {
     "name": "stdout",
     "output_type": "stream",
     "text": [
      "There are 13 patients of blood type AB.\n",
      "There is one patient of blood type B.\n",
      "There are 15 patients of blood type O.\n",
      "There are 15 patients of blood type A.\n",
      "There are no patients of blood type OO.\n"
     ]
    }
   ],
   "source": [
    "from collections import Counter\n",
    "\n",
    "# Specify the file path to the text file\n",
    "file_path = r'C:\\Users\\MY LAPTOP\\Documents\\BDAT\\BDAT 1004 (Data Programming)\\WEEK 2\\Bloodtype1.txt'\n",
    "\n",
    "# Read the contents of the file\n",
    "with open(file_path, 'r') as file:\n",
    "    blood_types_string = file.read()\n",
    "\n",
    "# Split the blood types string based on spaces\n",
    "blood_types_list = blood_types_string.split()\n",
    "\n",
    "# Count the occurrences of each blood type\n",
    "blood_type_counts = Counter(blood_types_list)\n",
    "\n",
    "# Define the blood type labels\n",
    "labels = {\n",
    "    'A': 'patients of blood type A',\n",
    "    'B': 'patient of blood type B',\n",
    "    'AB': 'patients of blood type AB',\n",
    "    'O': 'patients of blood type O',\n",
    "    'OO': 'patients of blood type OO'\n",
    "}\n",
    "\n",
    "# Print the counts for each blood type\n",
    "for blood_type, count in blood_type_counts.items():\n",
    "    if count == 1:\n",
    "        print(f\"There is one {labels[blood_type]}.\")\n",
    "    else:\n",
    "        print(f\"There are {count} {labels[blood_type]}.\")\n",
    "\n",
    "# Handle the special case for blood type 'OO'\n",
    "if blood_type_counts['OO'] == 0:\n",
    "    print(\"There are no patients of blood type OO.\")"
   ]
  },
  {
   "cell_type": "markdown",
   "id": "38c5319c",
   "metadata": {},
   "source": [
    "## Question 8\n",
    "\n",
    "Write a function curconv() that takes as input: <br>\n",
    "\n",
    "1.a currency represented using a string (e.g., 'JPY' for the Japanese Yen or 'EUR' for the Euro) <br>\n",
    "2.an amount <br>\n",
    "\n",
    "and then converts and returns the amount in US dollars. <br>\n",
    "\n",
    "\n",
    "curconv('EUR', 100) <br>\n",
    "\n",
    "122.96544 <br>\n",
    "\n",
    " curconv('JPY', 100) <br>\n",
    "\n",
    "1.241401"
   ]
  },
  {
   "cell_type": "code",
   "execution_count": 28,
   "id": "74020d76",
   "metadata": {},
   "outputs": [],
   "source": [
    "# Specify the file path to the text file\n",
    "file_path = r'C:\\Users\\MY LAPTOP\\Documents\\BDAT\\BDAT 1004 (Data Programming)\\WEEK 2\\currencies.txt'\n",
    "\n",
    "def curconv(currency, amount):\n",
    "    rates = {line.split()[0]: float(line.split()[1]) for line in open(file_path, 'r')}\n",
    "\n",
    "    if currency in rates:\n",
    "        usd_amount = amount * rates[currency]\n",
    "        return usd_amount\n",
    "    else:\n",
    "        return 'Invalid currency code'"
   ]
  },
  {
   "cell_type": "code",
   "execution_count": 30,
   "id": "4fb53339",
   "metadata": {},
   "outputs": [
    {
     "name": "stdout",
     "output_type": "stream",
     "text": [
      "122.96544\n",
      "\n"
     ]
    }
   ],
   "source": [
    "curconv('EUR', 100)"
   ]
  },
  {
   "cell_type": "code",
   "execution_count": 29,
   "id": "55a67ac9",
   "metadata": {},
   "outputs": [
    {
     "data": {
      "text/plain": [
       "1.241401"
      ]
     },
     "execution_count": 29,
     "metadata": {},
     "output_type": "execute_result"
    }
   ],
   "source": [
    "curconv('JPY', 100)"
   ]
  },
  {
   "cell_type": "markdown",
   "id": "71f6b21e",
   "metadata": {},
   "source": [
    "## Question 9\n",
    "Each of the following will cause an exception (an error). Identify what type of exception each will cause. <br>\n",
    "| Question        | Code error      |\n",
    "| --------------- | --------------- | \n",
    "| Trying to add incompatible variables, as in adding 6 + ‘a’    | TypeError | \n",
    "| Referring to the 12th item of a list that has only 10 items   | IndexError | \n",
    "| Using a value that is out of range for a function’s input, such as calling math.sqrt(-1.0)    | ValueError    | \n",
    "| Using an undeclared variable, such as print(x)\n",
    "when x has not been defined   | NameError    | \n",
    "| Trying to open a file that does not exist, such as mistyping the file name or looking in the wrong directory.    | FileNotFoundError    |"
   ]
  },
  {
   "cell_type": "code",
   "execution_count": 19,
   "id": "1956d15f",
   "metadata": {},
   "outputs": [
    {
     "ename": "TypeError",
     "evalue": "unsupported operand type(s) for +: 'int' and 'str'",
     "output_type": "error",
     "traceback": [
      "\u001b[1;31m---------------------------------------------------------------------------\u001b[0m",
      "\u001b[1;31mTypeError\u001b[0m                                 Traceback (most recent call last)",
      "Cell \u001b[1;32mIn[19], line 1\u001b[0m\n\u001b[1;32m----> 1\u001b[0m \u001b[38;5;241;43m6\u001b[39;49m\u001b[43m \u001b[49m\u001b[38;5;241;43m+\u001b[39;49m\u001b[43m \u001b[49m\u001b[38;5;124;43m'\u001b[39;49m\u001b[38;5;124;43ma\u001b[39;49m\u001b[38;5;124;43m'\u001b[39;49m\n",
      "\u001b[1;31mTypeError\u001b[0m: unsupported operand type(s) for +: 'int' and 'str'"
     ]
    }
   ],
   "source": [
    "6 + 'a'"
   ]
  },
  {
   "cell_type": "code",
   "execution_count": 20,
   "id": "910c76c8",
   "metadata": {},
   "outputs": [
    {
     "ename": "IndexError",
     "evalue": "list index out of range",
     "output_type": "error",
     "traceback": [
      "\u001b[1;31m---------------------------------------------------------------------------\u001b[0m",
      "\u001b[1;31mIndexError\u001b[0m                                Traceback (most recent call last)",
      "Cell \u001b[1;32mIn[20], line 2\u001b[0m\n\u001b[0;32m      1\u001b[0m lst \u001b[38;5;241m=\u001b[39m [\u001b[38;5;241m1\u001b[39m,\u001b[38;5;241m2\u001b[39m,\u001b[38;5;241m3\u001b[39m,\u001b[38;5;241m4\u001b[39m,\u001b[38;5;241m5\u001b[39m,\u001b[38;5;241m6\u001b[39m,\u001b[38;5;241m7\u001b[39m,\u001b[38;5;241m8\u001b[39m,\u001b[38;5;241m9\u001b[39m,\u001b[38;5;241m10\u001b[39m]\n\u001b[1;32m----> 2\u001b[0m \u001b[43mlst\u001b[49m\u001b[43m[\u001b[49m\u001b[38;5;241;43m11\u001b[39;49m\u001b[43m]\u001b[49m\n",
      "\u001b[1;31mIndexError\u001b[0m: list index out of range"
     ]
    }
   ],
   "source": [
    "lst = [1,2,3,4,5,6,7,8,9,10]\n",
    "lst[11]"
   ]
  },
  {
   "cell_type": "code",
   "execution_count": 23,
   "id": "263ade06",
   "metadata": {},
   "outputs": [
    {
     "ename": "ValueError",
     "evalue": "math domain error",
     "output_type": "error",
     "traceback": [
      "\u001b[1;31m---------------------------------------------------------------------------\u001b[0m",
      "\u001b[1;31mValueError\u001b[0m                                Traceback (most recent call last)",
      "Cell \u001b[1;32mIn[23], line 2\u001b[0m\n\u001b[0;32m      1\u001b[0m \u001b[38;5;28;01mimport\u001b[39;00m \u001b[38;5;21;01mmath\u001b[39;00m\n\u001b[1;32m----> 2\u001b[0m \u001b[43mmath\u001b[49m\u001b[38;5;241;43m.\u001b[39;49m\u001b[43msqrt\u001b[49m\u001b[43m(\u001b[49m\u001b[38;5;241;43m-\u001b[39;49m\u001b[38;5;241;43m1.0\u001b[39;49m\u001b[43m)\u001b[49m\n",
      "\u001b[1;31mValueError\u001b[0m: math domain error"
     ]
    }
   ],
   "source": [
    "import math\n",
    "math.sqrt(-1.0)"
   ]
  },
  {
   "cell_type": "code",
   "execution_count": 21,
   "id": "02e18fe0",
   "metadata": {},
   "outputs": [
    {
     "ename": "NameError",
     "evalue": "name 'x' is not defined",
     "output_type": "error",
     "traceback": [
      "\u001b[1;31m---------------------------------------------------------------------------\u001b[0m",
      "\u001b[1;31mNameError\u001b[0m                                 Traceback (most recent call last)",
      "Cell \u001b[1;32mIn[21], line 2\u001b[0m\n\u001b[0;32m      1\u001b[0m y \u001b[38;5;241m=\u001b[39m [\u001b[38;5;241m4\u001b[39m,\u001b[38;5;241m5\u001b[39m,\u001b[38;5;241m6\u001b[39m]\n\u001b[1;32m----> 2\u001b[0m \u001b[38;5;28mprint\u001b[39m(\u001b[43mx\u001b[49m)\n",
      "\u001b[1;31mNameError\u001b[0m: name 'x' is not defined"
     ]
    }
   ],
   "source": [
    "y = [4,5,6]\n",
    "print(x)"
   ]
  },
  {
   "cell_type": "code",
   "execution_count": 22,
   "id": "517f0e21",
   "metadata": {},
   "outputs": [
    {
     "ename": "FileNotFoundError",
     "evalue": "[Errno 2] No such file or directory: 'file.txt'",
     "output_type": "error",
     "traceback": [
      "\u001b[1;31m---------------------------------------------------------------------------\u001b[0m",
      "\u001b[1;31mFileNotFoundError\u001b[0m                         Traceback (most recent call last)",
      "Cell \u001b[1;32mIn[22], line 1\u001b[0m\n\u001b[1;32m----> 1\u001b[0m \u001b[38;5;28;01mwith\u001b[39;00m \u001b[38;5;28;43mopen\u001b[39;49m\u001b[43m(\u001b[49m\u001b[38;5;124;43m'\u001b[39;49m\u001b[38;5;124;43mfile.txt\u001b[39;49m\u001b[38;5;124;43m'\u001b[39;49m\u001b[43m,\u001b[49m\u001b[43m \u001b[49m\u001b[38;5;124;43m'\u001b[39;49m\u001b[38;5;124;43mr\u001b[39;49m\u001b[38;5;124;43m'\u001b[39;49m\u001b[43m)\u001b[49m \u001b[38;5;28;01mas\u001b[39;00m file:\n\u001b[0;32m      2\u001b[0m     \u001b[38;5;66;03m# Read the contents of the file\u001b[39;00m\n\u001b[0;32m      3\u001b[0m     file_contents \u001b[38;5;241m=\u001b[39m file\u001b[38;5;241m.\u001b[39mread()\n\u001b[0;32m      5\u001b[0m \u001b[38;5;66;03m# Print the file contents\u001b[39;00m\n",
      "File \u001b[1;32m~\\anaconda3\\lib\\site-packages\\IPython\\core\\interactiveshell.py:282\u001b[0m, in \u001b[0;36m_modified_open\u001b[1;34m(file, *args, **kwargs)\u001b[0m\n\u001b[0;32m    275\u001b[0m \u001b[38;5;28;01mif\u001b[39;00m file \u001b[38;5;129;01min\u001b[39;00m {\u001b[38;5;241m0\u001b[39m, \u001b[38;5;241m1\u001b[39m, \u001b[38;5;241m2\u001b[39m}:\n\u001b[0;32m    276\u001b[0m     \u001b[38;5;28;01mraise\u001b[39;00m \u001b[38;5;167;01mValueError\u001b[39;00m(\n\u001b[0;32m    277\u001b[0m         \u001b[38;5;124mf\u001b[39m\u001b[38;5;124m\"\u001b[39m\u001b[38;5;124mIPython won\u001b[39m\u001b[38;5;124m'\u001b[39m\u001b[38;5;124mt let you open fd=\u001b[39m\u001b[38;5;132;01m{\u001b[39;00mfile\u001b[38;5;132;01m}\u001b[39;00m\u001b[38;5;124m by default \u001b[39m\u001b[38;5;124m\"\u001b[39m\n\u001b[0;32m    278\u001b[0m         \u001b[38;5;124m\"\u001b[39m\u001b[38;5;124mas it is likely to crash IPython. If you know what you are doing, \u001b[39m\u001b[38;5;124m\"\u001b[39m\n\u001b[0;32m    279\u001b[0m         \u001b[38;5;124m\"\u001b[39m\u001b[38;5;124myou can use builtins\u001b[39m\u001b[38;5;124m'\u001b[39m\u001b[38;5;124m open.\u001b[39m\u001b[38;5;124m\"\u001b[39m\n\u001b[0;32m    280\u001b[0m     )\n\u001b[1;32m--> 282\u001b[0m \u001b[38;5;28;01mreturn\u001b[39;00m io_open(file, \u001b[38;5;241m*\u001b[39margs, \u001b[38;5;241m*\u001b[39m\u001b[38;5;241m*\u001b[39mkwargs)\n",
      "\u001b[1;31mFileNotFoundError\u001b[0m: [Errno 2] No such file or directory: 'file.txt'"
     ]
    }
   ],
   "source": [
    "with open('file.txt', 'r') as file:\n",
    "    # Read the contents of the file\n",
    "    file_contents = file.read()\n",
    "\n",
    "# Print the file contents\n",
    "print(file_contents)"
   ]
  },
  {
   "cell_type": "markdown",
   "id": "5f06b5eb",
   "metadata": {},
   "source": [
    "## Question 10\n",
    "\n",
    "Encryption is the process of hiding the meaning of a text by substituting letters in the message with other letters, according to some system. If the process is successful, no one but the intended recipient can understand the encrypted message. <br> Cryptanalysis refers to attempts to undo the encryption, even if some details of the encryption are unknown (for example, if an encrypted message has been intercepted). The first step of cryptanalysis is often to build up a table of letter frequencies in the encrypted text. <br>  Assume that the string letters is already defined as 'abcdefghijklmnopqrstuvwxyz'. <br> Write a function called frequencies() that takes a string as its only parameter, and returns a list of integers, showing the number of times each character appears in the text. Your function may ignore any characters that are not in letters.\n",
    "<br>frequencies('The quick red fox got bored and went home.') <br>  [1, 1, 1, 3, 5, 1, 1, 2, 1, 0, 1, 0, 1, 2, 4, 0, 1, 2, 0, 2,\n",
    "1, 0, 1, 1, 0, 0]\n",
    "<br> frequencies('apple')"
   ]
  },
  {
   "cell_type": "code",
   "execution_count": 26,
   "id": "18cfb984",
   "metadata": {},
   "outputs": [],
   "source": [
    "def frequencies(text):\n",
    "    letters = 'abcdefghijklmnopqrstuvwxyz'\n",
    "    freq_list = [text.lower().count(char) for char in letters]\n",
    "\n",
    "    return freq_list"
   ]
  },
  {
   "cell_type": "code",
   "execution_count": 27,
   "id": "b2473e97",
   "metadata": {},
   "outputs": [
    {
     "name": "stdout",
     "output_type": "stream",
     "text": [
      "[1, 1, 1, 3, 5, 1, 1, 2, 1, 0, 1, 0, 1, 2, 4, 0, 1, 2, 0, 3, 1, 0, 1, 1, 0, 0]\n",
      "[1, 0, 0, 0, 1, 0, 0, 0, 0, 0, 0, 1, 0, 0, 0, 2, 0, 0, 0, 0, 0, 0, 0, 0, 0, 0]\n"
     ]
    }
   ],
   "source": [
    "print(frequencies('The quick red fox got bored and went home.'))\n",
    "\n",
    "print(frequencies('apple'))"
   ]
  },
  {
   "cell_type": "code",
   "execution_count": null,
   "id": "c304b497",
   "metadata": {},
   "outputs": [],
   "source": []
  }
 ],
 "metadata": {
  "kernelspec": {
   "display_name": "Python 3 (ipykernel)",
   "language": "python",
   "name": "python3"
  },
  "language_info": {
   "codemirror_mode": {
    "name": "ipython",
    "version": 3
   },
   "file_extension": ".py",
   "mimetype": "text/x-python",
   "name": "python",
   "nbconvert_exporter": "python",
   "pygments_lexer": "ipython3",
   "version": "3.10.9"
  }
 },
 "nbformat": 4,
 "nbformat_minor": 5
}
